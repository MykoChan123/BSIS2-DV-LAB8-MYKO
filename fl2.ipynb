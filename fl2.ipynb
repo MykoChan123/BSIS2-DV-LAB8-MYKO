{
  "nbformat": 4,
  "nbformat_minor": 0,
  "metadata": {
    "colab": {
      "provenance": [],
      "authorship_tag": "ABX9TyPs0zy4kPLXPOWOXoL0ZVrY",
      "include_colab_link": true
    },
    "kernelspec": {
      "name": "python3",
      "display_name": "Python 3"
    },
    "language_info": {
      "name": "python"
    }
  },
  "cells": [
    {
      "cell_type": "markdown",
      "metadata": {
        "id": "view-in-github",
        "colab_type": "text"
      },
      "source": [
        "<a href=\"https://colab.research.google.com/github/MykoChan123/BSIS2-DV-LAB8-MYKO/blob/main/fl2.ipynb\" target=\"_parent\"><img src=\"https://colab.research.google.com/assets/colab-badge.svg\" alt=\"Open In Colab\"/></a>"
      ]
    },
    {
      "cell_type": "code",
      "execution_count": 2,
      "metadata": {
        "colab": {
          "base_uri": "https://localhost:8080/"
        },
        "id": "aM7bAeuw32Mx",
        "outputId": "6b48fd85-7f94-4a32-f03b-a3fef25fea01"
      },
      "outputs": [
        {
          "output_type": "stream",
          "name": "stdout",
          "text": [
            "Money\n",
            "Phone\n",
            "Gun\n",
            "Knife\n"
          ]
        }
      ],
      "source": [
        "bag = [\"Money\", \"Phone\", \"Gun\", \"Knife\"]\n",
        "\n",
        "for x in bag:\n",
        "  print(x)"
      ]
    }
  ]
}