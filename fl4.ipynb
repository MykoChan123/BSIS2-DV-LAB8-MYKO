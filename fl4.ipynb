{
  "nbformat": 4,
  "nbformat_minor": 0,
  "metadata": {
    "colab": {
      "provenance": [],
      "authorship_tag": "ABX9TyPxrGTjlegGdsU1DiNaD4z4",
      "include_colab_link": true
    },
    "kernelspec": {
      "name": "python3",
      "display_name": "Python 3"
    },
    "language_info": {
      "name": "python"
    }
  },
  "cells": [
    {
      "cell_type": "markdown",
      "metadata": {
        "id": "view-in-github",
        "colab_type": "text"
      },
      "source": [
        "<a href=\"https://colab.research.google.com/github/MykoChan123/BSIS2-DV-LAB8-MYKO/blob/main/fl4.ipynb\" target=\"_parent\"><img src=\"https://colab.research.google.com/assets/colab-badge.svg\" alt=\"Open In Colab\"/></a>"
      ]
    },
    {
      "cell_type": "code",
      "execution_count": 5,
      "metadata": {
        "colab": {
          "base_uri": "https://localhost:8080/"
        },
        "id": "aM7bAeuw32Mx",
        "outputId": "4f33585a-f7b8-44dc-a40a-2e09f7a41628"
      },
      "outputs": [
        {
          "output_type": "stream",
          "name": "stdout",
          "text": [
            "Excel\n",
            "Phyton\n",
            "R\n",
            "Rapid Miner\n"
          ]
        }
      ],
      "source": [
        "names=['Excel','Phyton','R','Rapid Miner']\n",
        "for i in range(len(names)):\n",
        "  print(names[i])"
      ]
    }
  ]
}