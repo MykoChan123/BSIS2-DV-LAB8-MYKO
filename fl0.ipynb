{
  "nbformat": 4,
  "nbformat_minor": 0,
  "metadata": {
    "colab": {
      "provenance": [],
      "authorship_tag": "ABX9TyMS11cylnFjN1vQTitJ12G+",
      "include_colab_link": true
    },
    "kernelspec": {
      "name": "python3",
      "display_name": "Python 3"
    },
    "language_info": {
      "name": "python"
    }
  },
  "cells": [
    {
      "cell_type": "markdown",
      "metadata": {
        "id": "view-in-github",
        "colab_type": "text"
      },
      "source": [
        "<a href=\"https://colab.research.google.com/github/MykoChan123/BSIS2-DV-LAB8-MYKO/blob/main/fl0.ipynb\" target=\"_parent\"><img src=\"https://colab.research.google.com/assets/colab-badge.svg\" alt=\"Open In Colab\"/></a>"
      ]
    },
    {
      "cell_type": "code",
      "execution_count": 1,
      "metadata": {
        "colab": {
          "base_uri": "https://localhost:8080/"
        },
        "id": "aM7bAeuw32Mx",
        "outputId": "1eb0de49-0a31-40b3-9596-a30c066e7204"
      },
      "outputs": [
        {
          "output_type": "stream",
          "name": "stdout",
          "text": [
            "M\n",
            "y\n",
            "k\n",
            "o\n",
            " \n",
            "C\n",
            "h\n",
            "a\n",
            "n\n"
          ]
        }
      ],
      "source": [
        "name = \"Myko Chan\"\n",
        "for x in name:\n",
        "  print(x)"
      ]
    }
  ]
}